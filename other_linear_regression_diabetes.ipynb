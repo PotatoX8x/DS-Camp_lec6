{
 "cells": [
  {
   "cell_type": "code",
   "execution_count": 29,
   "id": "b2e5c7f8",
   "metadata": {},
   "outputs": [],
   "source": [
    "import numpy as np \n",
    "import pandas as pd \n",
    "\n",
    "from sklearn.model_selection import train_test_split\n",
    "from sklearn.datasets import load_diabetes\n",
    "from sklearn.linear_model import Ridge\n",
    "from sklearn.preprocessing import StandardScaler\n",
    "from sklearn.linear_model import Lasso\n",
    "from sklearn.preprocessing import PolynomialFeatures\n",
    "\n",
    "import warnings\n",
    "warnings.simplefilter(action='ignore', category=FutureWarning)\n",
    "\n",
    "import matplotlib.pyplot as plt\n",
    "%matplotlib notebook"
   ]
  },
  {
   "cell_type": "code",
   "execution_count": 22,
   "id": "85bf25f6",
   "metadata": {},
   "outputs": [
    {
     "name": "stdout",
     "output_type": "stream",
     "text": [
      "X_train.shape=  (331, 10)\n",
      "y_train.shape=  (331,)\n"
     ]
    }
   ],
   "source": [
    "#importing data\n",
    "X, y = load_diabetes(return_X_y = True)\n",
    "\n",
    "X_train, X_test, y_train, y_test = train_test_split(X, y, random_state=2018)\n",
    "print ('X_train.shape= ',X_train.shape)\n",
    "print ('y_train.shape= ',y_train.shape)\n",
    "\n",
    "scaler = StandardScaler()\n",
    "X_train_scaled = scaler.fit_transform(X_train)\n",
    "X_test_scaled = scaler.transform(X_test)"
   ]
  },
  {
   "cell_type": "code",
   "execution_count": 21,
   "id": "46223dac",
   "metadata": {},
   "outputs": [
    {
     "name": "stdout",
     "output_type": "stream",
     "text": [
      "Ridge\n",
      "R2 train score = 0.538901995126611\n",
      "R2 test score = 0.4251227770183662\n",
      "b: 149.619335347432, \n",
      "w= [  0.2421515  -10.29802671  25.46031952  13.49884222 -26.33641714\n",
      "  13.9353391    3.86870964   9.60771826  33.47115238   2.97862073]\n"
     ]
    }
   ],
   "source": [
    "#Ridge regression\n",
    "ridge_reg=Ridge()\n",
    "ridge_reg.fit(X_train_scaled, y_train)\n",
    "regressor = ridge_reg\n",
    "print ('Ridge')\n",
    "print ('R2 train score =', regressor.score(X_train_scaled, y_train))\n",
    "print ('R2 test score =', regressor.score(X_test_scaled, y_test))\n",
    "print ('b: {}, \\nw= {}'.format(regressor.intercept_, regressor.coef_)) "
   ]
  },
  {
   "cell_type": "code",
   "execution_count": 27,
   "id": "fa082a73",
   "metadata": {},
   "outputs": [
    {
     "name": "stdout",
     "output_type": "stream",
     "text": [
      "Lasso\n",
      "R2 train score = 0.5347781368212357\n",
      "R2 test score = 0.4130596674691499\n",
      "b: 149.619335347432, \n",
      "w= [ 0.         -8.34844931 25.78793938 12.16627447 -3.02786261 -0.\n",
      " -8.30542273  0.96218495 25.79355883  2.03642435]\n"
     ]
    }
   ],
   "source": [
    "#Lasso regression\n",
    "lasso_reg = Lasso()\n",
    "lasso_reg.fit(X_train_scaled, y_train)\n",
    "regressor = lasso_reg\n",
    "print ('Lasso')\n",
    "print ('R2 train score =', regressor.score(X_train_scaled, y_train))\n",
    "print ('R2 test score =', regressor.score(X_test_scaled, y_test))\n",
    "print ('b: {}, \\nw= {}'.format(regressor.intercept_, regressor.coef_)) "
   ]
  },
  {
   "cell_type": "code",
   "execution_count": 45,
   "id": "ef22b8af",
   "metadata": {},
   "outputs": [
    {
     "name": "stdout",
     "output_type": "stream",
     "text": [
      "X_train.shape=  (331, 10)\n",
      "X_train_poly.shape=  (331, 65)\n",
      "Polynomial + Ridge\n",
      "R2 train score = 0.621101854231127\n",
      "R2 test score = 0.3271521479417302\n",
      "b: 134.6374552391169, \n",
      "w= [  2.28709732  -9.58764291  20.5159544   13.82020211  -1.47563091\n",
      "  -2.58349375  -7.59631175   3.91864895  31.18476088   2.08752256\n",
      "   1.24054167  10.39749272   2.96255657  -5.16287389  -1.63407633\n",
      "  -7.29317655  11.40386146  13.50701119   0.93501207   5.78634315\n",
      "   0.05793164   0.80039866   9.59842493  11.69858565 -13.469841\n",
      "  -7.32077412  -1.77274604  -8.87661551  -2.68325026   4.16950619\n",
      "   5.11985025 -29.66405126  25.49800249  12.33116482   2.70293054\n",
      "   9.7300654   -4.02610208   2.33629629   7.95119434  -5.38147459\n",
      "  -2.55375281  -6.63182354   1.92719602  -3.86000641   7.22277459\n",
      "  11.10313489  -8.40268416 -12.0631574  -19.23539317  -8.35677877\n",
      "  -7.53462272  -8.85536631  -7.95844897  19.60181718   0.36758288\n",
      "  -4.27183864  -4.57523366   2.11394869  11.30930945   5.88834227\n",
      " -14.3559604    9.79462294   8.90081511   7.06597055   3.90073783]\n"
     ]
    }
   ],
   "source": [
    "#Poly-Ridge regression\n",
    "poly= PolynomialFeatures(degree=2, include_bias=False)\n",
    "X_train_poly= poly.fit_transform(X_train_scaled)\n",
    "X_test_poly = poly.transform(X_test_scaled)\n",
    "print ('X_train.shape= ',X_train.shape)\n",
    "print ('X_train_poly.shape= ',X_train_poly.shape)\n",
    "\n",
    "poly_ridge = Ridge().fit(X_train_poly, y_train)\n",
    "regressor = poly_ridge\n",
    "print ('Polynomial + Ridge')\n",
    "\n",
    "print ('R2 train score =', regressor.score(X_train_poly, y_train))\n",
    "print ('R2 test score =', regressor.score(X_test_poly, y_test))\n",
    "w= regressor.coef_\n",
    "print ('b: {}, \\nw= {}'.format(regressor.intercept_, w)) "
   ]
  },
  {
   "cell_type": "code",
   "execution_count": 46,
   "id": "ab9e1a1d",
   "metadata": {},
   "outputs": [
    {
     "name": "stdout",
     "output_type": "stream",
     "text": [
      "Polynomial + Lasso\n",
      "R2 train score = 0.5954459892183988\n",
      "R2 test score = 0.38098340260564356\n",
      "b: 136.750426278286, \n",
      "w= [ 1.90783126e+00 -7.24550604e+00  2.21488895e+01  1.19920114e+01\n",
      " -0.00000000e+00 -0.00000000e+00 -8.80517930e+00  0.00000000e+00\n",
      "  2.71566104e+01  2.23186091e+00  2.66147966e-01  9.14653070e+00\n",
      "  0.00000000e+00 -0.00000000e+00  0.00000000e+00 -0.00000000e+00\n",
      "  0.00000000e+00  0.00000000e+00  1.39783503e+00  2.96603745e+00\n",
      "  0.00000000e+00  0.00000000e+00  5.98244233e+00 -0.00000000e+00\n",
      " -4.31488429e+00  0.00000000e+00 -0.00000000e+00 -1.13064950e+00\n",
      " -2.66084698e+00  4.12503969e+00  4.84387328e+00 -4.52784940e-04\n",
      " -0.00000000e+00  0.00000000e+00  0.00000000e+00 -0.00000000e+00\n",
      " -2.94066909e-01  2.23571515e-01 -0.00000000e+00 -0.00000000e+00\n",
      "  1.21789730e+00 -2.63098628e+00  2.78733125e+00 -3.62374587e-01\n",
      " -0.00000000e+00 -0.00000000e+00 -0.00000000e+00 -2.99018727e+00\n",
      "  0.00000000e+00 -0.00000000e+00 -0.00000000e+00 -5.74973015e-01\n",
      "  0.00000000e+00  5.91628505e+00 -0.00000000e+00 -0.00000000e+00\n",
      " -7.96032966e-02  0.00000000e+00  4.92248418e-01  2.76161540e+00\n",
      " -4.18607184e+00 -0.00000000e+00  0.00000000e+00  0.00000000e+00\n",
      "  2.84147409e+00]\n"
     ]
    }
   ],
   "source": [
    "#Poly-Lasso regression\n",
    "poly_lasso = Lasso().fit(X_train_poly, y_train)\n",
    "regressor = poly_lasso\n",
    "print ('Polynomial + Lasso')\n",
    "\n",
    "print ('R2 train score =', regressor.score(X_train_poly, y_train))\n",
    "print ('R2 test score =', regressor.score(X_test_poly, y_test))\n",
    "w= regressor.coef_\n",
    "print ('b: {}, \\nw= {}'.format(regressor.intercept_, w)) "
   ]
  }
 ],
 "metadata": {
  "kernelspec": {
   "display_name": "Python 3 (ipykernel)",
   "language": "python",
   "name": "python3"
  },
  "language_info": {
   "codemirror_mode": {
    "name": "ipython",
    "version": 3
   },
   "file_extension": ".py",
   "mimetype": "text/x-python",
   "name": "python",
   "nbconvert_exporter": "python",
   "pygments_lexer": "ipython3",
   "version": "3.9.13"
  }
 },
 "nbformat": 4,
 "nbformat_minor": 5
}
